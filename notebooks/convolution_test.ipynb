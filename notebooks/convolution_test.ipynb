{
 "cells": [
  {
   "cell_type": "code",
   "execution_count": 1,
   "metadata": {},
   "outputs": [],
   "source": [
    "import numpy as np\n",
    "from scipy import signal\n",
    "import matplotlib.pyplot as plt\n",
    "\n",
    "import time"
   ]
  },
  {
   "cell_type": "code",
   "execution_count": 61,
   "metadata": {},
   "outputs": [
    {
     "name": "stdout",
     "output_type": "stream",
     "text": [
      "[[ 0  1  2  3  4  5  6]\n",
      " [ 7  8  9 10 11 12 13]\n",
      " [14 15 16 17 18 19 20]\n",
      " [21 22 23 24 25 26 27]\n",
      " [28 29 30 31 32 33 34]\n",
      " [35 36 37 38 39 40 41]\n",
      " [42 43 44 45 46 47 48]]\n",
      "[[0 0 0 0]\n",
      " [0 0 0 1]\n",
      " [0 0 0 0]]\n"
     ]
    }
   ],
   "source": [
    "base = np.arange(7*7).reshape(7,7)\n",
    "\n",
    "mask = np.zeros((3,4), dtype=int)\n",
    "#mask[1,0]=1\n",
    "mask[1,-1]=1\n",
    "#mask[-1,-1]=1\n",
    "\n",
    "#mask[0,1]=10\n",
    "#mask[1,0]=100\n",
    "#mask[1,1]=1000\n",
    "#mask[2,0]=10000\n",
    "#mask[2,1]=100000\n",
    "print(base)\n",
    "print(mask)"
   ]
  },
  {
   "cell_type": "code",
   "execution_count": 62,
   "metadata": {},
   "outputs": [
    {
     "name": "stdout",
     "output_type": "stream",
     "text": [
      "[[0 0 0 0]\n",
      " [1 0 0 0]\n",
      " [0 0 0 0]]\n",
      "\n",
      "(9, 10)\n",
      "[[42 43 44 45 46 47 48 42 43 44]\n",
      " [ 0  1  2  3  4  5  6  0  1  2]\n",
      " [ 7  8  9 10 11 12 13  7  8  9]\n",
      " [14 15 16 17 18 19 20 14 15 16]\n",
      " [21 22 23 24 25 26 27 21 22 23]\n",
      " [28 29 30 31 32 33 34 28 29 30]\n",
      " [35 36 37 38 39 40 41 35 36 37]\n",
      " [42 43 44 45 46 47 48 42 43 44]\n",
      " [ 0  1  2  3  4  5  6  0  1  2]]\n",
      "\n",
      "(7, 7)\n",
      "[[ 1  2  3  4  5  6  0]\n",
      " [ 8  9 10 11 12 13  7]\n",
      " [15 16 17 18 19 20 14]\n",
      " [22 23 24 25 26 27 21]\n",
      " [29 30 31 32 33 34 28]\n",
      " [36 37 38 39 40 41 35]\n",
      " [43 44 45 46 47 48 42]]\n",
      "\n",
      "[[10 11 12 13]\n",
      " [17 18 19 20]\n",
      " [24 25 26 27]\n",
      " [31 32 33 34]\n",
      " [38 39 40 41]]\n"
     ]
    }
   ],
   "source": [
    "#signal.convolve2d(base, mask, boundary='wrap', mode='same').astype(int)\n",
    "\n",
    "flip_mask = mask[::-1,::-1]\n",
    "print(flip_mask.astype(int))\n",
    "print()\n",
    "res = signal.convolve2d(base, flip_mask, boundary='wrap', mode='full').astype(int)\n",
    "print(res.shape)\n",
    "print(res)\n",
    "print()\n",
    "res = signal.convolve2d(base, flip_mask, boundary='wrap', mode='same').astype(int)\n",
    "print(res.shape)\n",
    "print(res)\n",
    "print()\n",
    "res = signal.convolve2d(base, flip_mask, boundary='wrap', mode='valid').astype(int)\n",
    "print(res)"
   ]
  },
  {
   "cell_type": "code",
   "execution_count": 28,
   "metadata": {},
   "outputs": [
    {
     "data": {
      "text/plain": [
       "array([[48, 42, 43, 44, 45, 46, 47],\n",
       "       [ 6,  0,  1,  2,  3,  4,  5],\n",
       "       [13,  7,  8,  9, 10, 11, 12],\n",
       "       [20, 14, 15, 16, 17, 18, 19],\n",
       "       [27, 21, 22, 23, 24, 25, 26],\n",
       "       [34, 28, 29, 30, 31, 32, 33],\n",
       "       [41, 35, 36, 37, 38, 39, 40]])"
      ]
     },
     "execution_count": 28,
     "metadata": {},
     "output_type": "execute_result"
    }
   ],
   "source": [
    "signal.convolve2d(base, mask, boundary='wrap',mode='same')"
   ]
  },
  {
   "cell_type": "code",
   "execution_count": 29,
   "metadata": {},
   "outputs": [
    {
     "data": {
      "text/plain": [
       "array([[15, 14, 13, 12],\n",
       "       [11, 10,  9,  8],\n",
       "       [ 7,  6,  5,  4],\n",
       "       [ 3,  2,  1,  0]])"
      ]
     },
     "execution_count": 29,
     "metadata": {},
     "output_type": "execute_result"
    }
   ],
   "source": [
    "np.arange(16).reshape(4,4)[::-1,::-1]"
   ]
  },
  {
   "cell_type": "code",
   "execution_count": 54,
   "metadata": {},
   "outputs": [
    {
     "name": "stdout",
     "output_type": "stream",
     "text": [
      "6.49 ms ± 130 µs per loop (mean ± std. dev. of 7 runs, 100 loops each)\n",
      "22.9 ms ± 1.08 ms per loop (mean ± std. dev. of 7 runs, 10 loops each)\n"
     ]
    }
   ],
   "source": [
    "image = np.random.random((200,200))\n",
    "mask6 = np.random.random((6,6))\n",
    "mask12 = np.random.random((12,12))\n",
    "fmask = mask[::-1,::-1]\n",
    "\n",
    "%timeit signal.convolve2d(image, mask6, boundary='wrap', mode='same')\n",
    "%timeit signal.convolve2d(image, mask12, boundary='wrap', mode='same')"
   ]
  },
  {
   "cell_type": "code",
   "execution_count": 45,
   "metadata": {},
   "outputs": [],
   "source": [
    "cv = signal.convolve2d(image, mask, boundary='wrap', mode='same')\n",
    "cr = signal.correlate2d(image, fmask, boundary='wrap', mode='same')"
   ]
  },
  {
   "cell_type": "code",
   "execution_count": 48,
   "metadata": {},
   "outputs": [
    {
     "data": {
      "text/plain": [
       "array([[False, False, False, ...,  True,  True, False],\n",
       "       [False,  True,  True, ..., False, False,  True],\n",
       "       [False, False, False, ..., False, False, False],\n",
       "       ...,\n",
       "       [ True,  True, False, ..., False,  True,  True],\n",
       "       [ True, False, False, ..., False, False, False],\n",
       "       [ True,  True, False, ..., False, False,  True]])"
      ]
     },
     "execution_count": 48,
     "metadata": {},
     "output_type": "execute_result"
    }
   ],
   "source": [
    "cv == cr"
   ]
  },
  {
   "cell_type": "code",
   "execution_count": 53,
   "metadata": {},
   "outputs": [
    {
     "data": {
      "text/plain": [
       "True"
      ]
     },
     "execution_count": 53,
     "metadata": {},
     "output_type": "execute_result"
    }
   ],
   "source": [
    "np.allclose(cr, cv)"
   ]
  },
  {
   "cell_type": "code",
   "execution_count": 50,
   "metadata": {},
   "outputs": [
    {
     "data": {
      "text/plain": [
       "array([[5.14463515, 6.04120921, 5.29782864, ..., 5.63586648, 5.13108276,\n",
       "        5.65025701],\n",
       "       [5.67155675, 6.30800782, 6.38559348, ..., 5.92333274, 5.66826246,\n",
       "        6.21848205],\n",
       "       [5.67356153, 6.41552537, 4.95321534, ..., 6.09018424, 6.72826436,\n",
       "        5.79898199],\n",
       "       ...,\n",
       "       [5.28560711, 5.14848683, 5.01442728, ..., 4.41575517, 4.36236423,\n",
       "        4.79092676],\n",
       "       [4.24056796, 5.50804804, 4.9941046 , ..., 4.43119028, 4.76516484,\n",
       "        4.73117204],\n",
       "       [5.08706341, 5.75089236, 5.75311841, ..., 5.52993927, 5.36698028,\n",
       "        4.68479507]])"
      ]
     },
     "execution_count": 50,
     "metadata": {},
     "output_type": "execute_result"
    }
   ],
   "source": [
    "cv"
   ]
  },
  {
   "cell_type": "code",
   "execution_count": 75,
   "metadata": {},
   "outputs": [
    {
     "data": {
      "text/plain": [
       "array([[24, 23, 22, 21, 20],\n",
       "       [19, 18, 17, 16, 15],\n",
       "       [14, 13, 12, 11, 10],\n",
       "       [ 9,  8,  7,  6,  5],\n",
       "       [ 4,  3,  2,  1,  0]])"
      ]
     },
     "execution_count": 75,
     "metadata": {},
     "output_type": "execute_result"
    }
   ],
   "source": [
    "np.arange(25).reshape(5,5)[::-1,::-1]"
   ]
  },
  {
   "cell_type": "code",
   "execution_count": null,
   "metadata": {},
   "outputs": [],
   "source": []
  }
 ],
 "metadata": {
  "kernelspec": {
   "display_name": "Python 3",
   "language": "python",
   "name": "python3"
  },
  "language_info": {
   "codemirror_mode": {
    "name": "ipython",
    "version": 3
   },
   "file_extension": ".py",
   "mimetype": "text/x-python",
   "name": "python",
   "nbconvert_exporter": "python",
   "pygments_lexer": "ipython3",
   "version": "3.4.3"
  }
 },
 "nbformat": 4,
 "nbformat_minor": 2
}
